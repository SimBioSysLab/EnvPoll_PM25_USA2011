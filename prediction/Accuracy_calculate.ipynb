{
 "cells": [
  {
   "cell_type": "code",
   "execution_count": 1,
   "metadata": {},
   "outputs": [],
   "source": [
    "import os\n",
    "import numpy as np\n",
    "import pandas as pd\n",
    "import matplotlib.pyplot as plt\n",
    "import random"
   ]
  },
  {
   "cell_type": "code",
   "execution_count": 2,
   "metadata": {},
   "outputs": [],
   "source": [
    "CV_type = 'SSCV'\n",
    "epochs = 200\n",
    "fold   = 10\n",
    "\n",
    "fold_pred = []\n",
    "for fold_num in range(fold):\n",
    "    path = CV_type + '/fold'+str(fold_num)+'/'\n",
    "\n",
    "    filenames = os.listdir(path)\n",
    "    filenames = np.sort(filenames)\n",
    "    \n",
    "    flist = [] \n",
    "    for filename in filenames:\n",
    "        if \".csv\" in filename.lower():  \n",
    "            flist.append(os.path.join(filename))\n",
    "            \n",
    "    fold_pred.append(flist)"
   ]
  },
  {
   "cell_type": "code",
   "execution_count": 3,
   "metadata": {},
   "outputs": [],
   "source": [
    "sort_flist = []\n",
    "for fold_num in range(fold):   \n",
    "    path = CV_type + '/fold'+str(fold_num)+'/'\n",
    "    for epoch_num in range(epochs):\n",
    "        epoch_flist = []\n",
    "        for filename in fold_pred[fold_num]:\n",
    "            if 'epoch'+str(epoch_num)+'.' in filename.lower():\n",
    "                epoch_flist.append(path+os.path.join(filename))\n",
    "        sort_flist.append(epoch_flist)"
   ]
  },
  {
   "cell_type": "code",
   "execution_count": 4,
   "metadata": {
    "scrolled": false
   },
   "outputs": [
    {
     "name": "stdout",
     "output_type": "stream",
     "text": [
      "0\n",
      "100\n",
      "200\n",
      "300\n",
      "400\n",
      "500\n",
      "600\n",
      "700\n",
      "800\n",
      "900\n",
      "1000\n",
      "1100\n",
      "1200\n",
      "1300\n",
      "1400\n",
      "1500\n",
      "1600\n",
      "1700\n",
      "1800\n",
      "1900\n"
     ]
    }
   ],
   "source": [
    "epoch_pred = np.array([None]*len(sort_flist))\n",
    "for ep_fd_num in range(len(sort_flist)):\n",
    "    ensemble_val = []\n",
    "    for filename in sort_flist[ep_fd_num]:\n",
    "        ensemble_val.append(np.array(pd.read_csv(filename, header=None)))\n",
    "    ensemble_val = np.mean(np.array(ensemble_val), axis=0)\n",
    "    epoch_pred[ep_fd_num] = ensemble_val\n",
    "    \n",
    "    if ep_fd_num%100 ==0:\n",
    "        print(ep_fd_num)"
   ]
  },
  {
   "cell_type": "code",
   "execution_count": 5,
   "metadata": {},
   "outputs": [],
   "source": [
    "ensemble_pred = []\n",
    "for epoch_num in range(epochs):\n",
    "    one_epoch_pred = []\n",
    "    for ep_fd_num in range(epoch_pred.shape[0]):\n",
    "        if 'epoch'+str(epoch_num)+'.' in sort_flist[ep_fd_num][0]:\n",
    "            one_epoch_pred.append(epoch_pred[ep_fd_num])\n",
    "    one_epoch_pred = np.vstack(one_epoch_pred)\n",
    "    ensemble_pred.append(one_epoch_pred)"
   ]
  },
  {
   "cell_type": "code",
   "execution_count": 6,
   "metadata": {},
   "outputs": [],
   "source": [
    "label_path = \"../v10_170713_5x5_include_na_label.npz\"\n",
    "data_path = '../v10_170713_5x5_include_na_dataset.npz'\n",
    "y_tr = np.load(label_path)['arr_0']\n",
    "\n",
    "if CV_type == 'TSCV':\n",
    "    x_tr_blended = np.load(data_path)['arr_0']\n",
    "    y_tr_blended = np.load(label_path)['arr_0']\n",
    "\n",
    "    all_dates = np.unique(x_tr_blended[:, 28*12+3])\n",
    "    random.seed(1000)\n",
    "    random_dates = random.sample(list(all_dates), len(all_dates)) \n",
    "    y_tr = []\n",
    "    for day in random_dates:\n",
    "        y_tr.append(y_tr_blended[x_tr_blended[:, 28*12+3]==day])\n",
    "    y_tr =np.hstack( y_tr)\n",
    "    \n",
    "if CV_type == 'SSCV':\n",
    "    x_tr_blended = np.load(data_path)['arr_0']\n",
    "    y_tr_blended = np.load(label_path)['arr_0']\n",
    "\n",
    "    all_locations = np.unique(x_tr_blended[:, 28*12+1])\n",
    "    random.seed(1000)\n",
    "    random_locations = random.sample(list(all_locations), len(all_locations)) \n",
    "    y_tr = []\n",
    "    for location in random_locations:\n",
    "        y_tr.append(y_tr_blended[x_tr_blended[:, 28*12+1]==location])\n",
    "    y_tr =np.hstack( y_tr)\n",
    "y_tr = y_tr.reshape(-1, 1)"
   ]
  },
  {
   "cell_type": "code",
   "execution_count": 7,
   "metadata": {},
   "outputs": [
    {
     "name": "stdout",
     "output_type": "stream",
     "text": [
      "0.6586767530240414\n"
     ]
    }
   ],
   "source": [
    "ensemble_r2 = []\n",
    "for epoch_num in range(len(ensemble_pred)):\n",
    "    ensemble_r2.append(1-(np.sum(np.square(y_tr - ensemble_pred[epoch_num])) / np.sum(np.square(y_tr - np.mean(y_tr)))))\n",
    "print(max(ensemble_r2))"
   ]
  },
  {
   "cell_type": "code",
   "execution_count": 10,
   "metadata": {},
   "outputs": [
    {
     "data": {
      "image/png": "[encoded data removed]",
      "text/plain": [
       "<Figure size 432x288 with 1 Axes>"
      ]
     },
     "metadata": {
      "needs_background": "light"
     },
     "output_type": "display_data"
    }
   ],
   "source": [
    "plt.plot(ensemble_r2)\n",
    "plt.xlabel('epochs')\n",
    "plt.text(50,(ensemble_r2[np.argmax(ensemble_r2)]-0.1),'max={}'.format(ensemble_r2[np.argmax(ensemble_r2)]))\n",
    "plt.ylabel('R-suquared') \n",
    "plt.title(CV_type)\n",
    "plt.show()"
   ]
  },
  {
   "cell_type": "code",
   "execution_count": 9,
   "metadata": {},
   "outputs": [
    {
     "name": "stdout",
     "output_type": "stream",
     "text": [
      "0.6586767530240414\n",
      "3.723596361752934\n",
      "2.3537407124700263\n"
     ]
    }
   ],
   "source": [
    "ensemble_pred = ensemble_pred[np.argmax(ensemble_r2)]\n",
    "print(1-(np.sum(np.square(y_tr - ensemble_pred)) / np.sum(np.square(y_tr - np.mean(y_tr)))))\n",
    "print(np.sqrt(np.mean(np.square(y_tr - ensemble_pred))))\n",
    "print(np.mean(np.abs(y_tr-ensemble_pred)))"
   ]
  }
 ],
 "metadata": {
  "kernelspec": {
   "display_name": "Python 3",
   "language": "python",
   "name": "python3"
  },
  "language_info": {
   "codemirror_mode": {
    "name": "ipython",
    "version": 3
   },
   "file_extension": ".py",
   "mimetype": "text/x-python",
   "name": "python",
   "nbconvert_exporter": "python",
   "pygments_lexer": "ipython3",
   "version": "3.7.3"
  }
 },
 "nbformat": 4,
 "nbformat_minor": 2
}
